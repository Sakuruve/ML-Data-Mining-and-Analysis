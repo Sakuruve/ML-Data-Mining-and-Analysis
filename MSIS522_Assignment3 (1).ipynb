{
  "nbformat": 4,
  "nbformat_minor": 0,
  "metadata": {
    "kernelspec": {
      "display_name": "Python 3",
      "language": "python",
      "name": "python3"
    },
    "language_info": {
      "codemirror_mode": {
        "name": "ipython",
        "version": 3
      },
      "file_extension": ".py",
      "mimetype": "text/x-python",
      "name": "python",
      "nbconvert_exporter": "python",
      "pygments_lexer": "ipython3",
      "version": "3.6.3"
    },
    "colab": {
      "name": "MSIS522_Assignment3.ipynb",
      "provenance": [],
      "collapsed_sections": []
    }
  },
  "cells": [
    {
      "cell_type": "markdown",
      "metadata": {
        "id": "zK7EWLIXRu0C"
      },
      "source": [
        "# Clustering"
      ]
    },
    {
      "cell_type": "markdown",
      "metadata": {
        "id": "1Bq6HcaJSzWe"
      },
      "source": [
        "## Problem 1: Segment Customers"
      ]
    },
    {
      "cell_type": "markdown",
      "metadata": {
        "id": "5dKNjMuKRu0E"
      },
      "source": [
        "The problem that we are going to solve in this assignment is to segment customers into different groups based on their shopping trends."
      ]
    },
    {
      "cell_type": "code",
      "metadata": {
        "id": "snzfWDzvRu0F"
      },
      "source": [
        "# import packages\n",
        "%matplotlib inline\n",
        "import numpy as np\n",
        "import pandas as pd\n",
        "import matplotlib.pyplot as plt\n",
        "import seaborn as sns\n",
        "sns.set()\n",
        "import scipy.cluster.hierarchy as shc\n",
        "from sklearn.cluster import AgglomerativeClustering"
      ],
      "execution_count": 74,
      "outputs": []
    },
    {
      "cell_type": "markdown",
      "metadata": {
        "id": "O5K8-XTXRu0K"
      },
      "source": [
        "### Load data\n",
        "\n",
        "Our dataset has five columns: CustomerID, Genre, Age, Annual Income, and Spending Score. To view the results in two-dimensional feature space, we will retain only two of these five columns. We can remove CustomerID column, Genre, and Age column. We will retain the Annual Income (in thousands of dollars) and Spending Score (1-100) columns. The Spending Score column signifies how often a person spends money in a mall on a scale of 1 to 100 with 100 being the highest spender."
      ]
    },
    {
      "cell_type": "code",
      "metadata": {
        "id": "lbOcjmnqRu0L",
        "colab": {
          "base_uri": "https://localhost:8080/",
          "height": 606
        },
        "outputId": "8e692f2d-1df4-4964-c121-12c7c68899e4"
      },
      "source": [
        "# load the data\n",
        "shopping_data = pd.read_csv('https://raw.githubusercontent.com/zariable/data/master/shopping_data.csv')\n",
        "shopping_data.rename(\n",
        "    columns={\n",
        "        'CustomerID': 'customer_id',\n",
        "        'Genre': 'genre',\n",
        "        'Age': 'age',\n",
        "        'Annual Income (k$)': 'annual_income',\n",
        "        'Spending Score (1-100)': 'spending_score'\n",
        "    },\n",
        "    inplace=True\n",
        ")\n",
        "display(shopping_data.head())\n",
        "\n",
        "# TODO: retain only anual_income and spending_score for clustering\n",
        "shopping_data = shopping_data.drop(columns=['age','customer_id','genre'])\n",
        "shopping_data"
      ],
      "execution_count": 75,
      "outputs": [
        {
          "output_type": "display_data",
          "data": {
            "text/html": [
              "<div>\n",
              "<style scoped>\n",
              "    .dataframe tbody tr th:only-of-type {\n",
              "        vertical-align: middle;\n",
              "    }\n",
              "\n",
              "    .dataframe tbody tr th {\n",
              "        vertical-align: top;\n",
              "    }\n",
              "\n",
              "    .dataframe thead th {\n",
              "        text-align: right;\n",
              "    }\n",
              "</style>\n",
              "<table border=\"1\" class=\"dataframe\">\n",
              "  <thead>\n",
              "    <tr style=\"text-align: right;\">\n",
              "      <th></th>\n",
              "      <th>customer_id</th>\n",
              "      <th>genre</th>\n",
              "      <th>age</th>\n",
              "      <th>annual_income</th>\n",
              "      <th>spending_score</th>\n",
              "    </tr>\n",
              "  </thead>\n",
              "  <tbody>\n",
              "    <tr>\n",
              "      <th>0</th>\n",
              "      <td>1</td>\n",
              "      <td>Male</td>\n",
              "      <td>19</td>\n",
              "      <td>15</td>\n",
              "      <td>39</td>\n",
              "    </tr>\n",
              "    <tr>\n",
              "      <th>1</th>\n",
              "      <td>2</td>\n",
              "      <td>Male</td>\n",
              "      <td>21</td>\n",
              "      <td>15</td>\n",
              "      <td>81</td>\n",
              "    </tr>\n",
              "    <tr>\n",
              "      <th>2</th>\n",
              "      <td>3</td>\n",
              "      <td>Female</td>\n",
              "      <td>20</td>\n",
              "      <td>16</td>\n",
              "      <td>6</td>\n",
              "    </tr>\n",
              "    <tr>\n",
              "      <th>3</th>\n",
              "      <td>4</td>\n",
              "      <td>Female</td>\n",
              "      <td>23</td>\n",
              "      <td>16</td>\n",
              "      <td>77</td>\n",
              "    </tr>\n",
              "    <tr>\n",
              "      <th>4</th>\n",
              "      <td>5</td>\n",
              "      <td>Female</td>\n",
              "      <td>31</td>\n",
              "      <td>17</td>\n",
              "      <td>40</td>\n",
              "    </tr>\n",
              "  </tbody>\n",
              "</table>\n",
              "</div>"
            ],
            "text/plain": [
              "   customer_id   genre  age  annual_income  spending_score\n",
              "0            1    Male   19             15              39\n",
              "1            2    Male   21             15              81\n",
              "2            3  Female   20             16               6\n",
              "3            4  Female   23             16              77\n",
              "4            5  Female   31             17              40"
            ]
          },
          "metadata": {
            "tags": []
          }
        },
        {
          "output_type": "execute_result",
          "data": {
            "text/html": [
              "<div>\n",
              "<style scoped>\n",
              "    .dataframe tbody tr th:only-of-type {\n",
              "        vertical-align: middle;\n",
              "    }\n",
              "\n",
              "    .dataframe tbody tr th {\n",
              "        vertical-align: top;\n",
              "    }\n",
              "\n",
              "    .dataframe thead th {\n",
              "        text-align: right;\n",
              "    }\n",
              "</style>\n",
              "<table border=\"1\" class=\"dataframe\">\n",
              "  <thead>\n",
              "    <tr style=\"text-align: right;\">\n",
              "      <th></th>\n",
              "      <th>annual_income</th>\n",
              "      <th>spending_score</th>\n",
              "    </tr>\n",
              "  </thead>\n",
              "  <tbody>\n",
              "    <tr>\n",
              "      <th>0</th>\n",
              "      <td>15</td>\n",
              "      <td>39</td>\n",
              "    </tr>\n",
              "    <tr>\n",
              "      <th>1</th>\n",
              "      <td>15</td>\n",
              "      <td>81</td>\n",
              "    </tr>\n",
              "    <tr>\n",
              "      <th>2</th>\n",
              "      <td>16</td>\n",
              "      <td>6</td>\n",
              "    </tr>\n",
              "    <tr>\n",
              "      <th>3</th>\n",
              "      <td>16</td>\n",
              "      <td>77</td>\n",
              "    </tr>\n",
              "    <tr>\n",
              "      <th>4</th>\n",
              "      <td>17</td>\n",
              "      <td>40</td>\n",
              "    </tr>\n",
              "    <tr>\n",
              "      <th>...</th>\n",
              "      <td>...</td>\n",
              "      <td>...</td>\n",
              "    </tr>\n",
              "    <tr>\n",
              "      <th>195</th>\n",
              "      <td>120</td>\n",
              "      <td>79</td>\n",
              "    </tr>\n",
              "    <tr>\n",
              "      <th>196</th>\n",
              "      <td>126</td>\n",
              "      <td>28</td>\n",
              "    </tr>\n",
              "    <tr>\n",
              "      <th>197</th>\n",
              "      <td>126</td>\n",
              "      <td>74</td>\n",
              "    </tr>\n",
              "    <tr>\n",
              "      <th>198</th>\n",
              "      <td>137</td>\n",
              "      <td>18</td>\n",
              "    </tr>\n",
              "    <tr>\n",
              "      <th>199</th>\n",
              "      <td>137</td>\n",
              "      <td>83</td>\n",
              "    </tr>\n",
              "  </tbody>\n",
              "</table>\n",
              "<p>200 rows × 2 columns</p>\n",
              "</div>"
            ],
            "text/plain": [
              "     annual_income  spending_score\n",
              "0               15              39\n",
              "1               15              81\n",
              "2               16               6\n",
              "3               16              77\n",
              "4               17              40\n",
              "..             ...             ...\n",
              "195            120              79\n",
              "196            126              28\n",
              "197            126              74\n",
              "198            137              18\n",
              "199            137              83\n",
              "\n",
              "[200 rows x 2 columns]"
            ]
          },
          "metadata": {
            "tags": []
          },
          "execution_count": 75
        }
      ]
    },
    {
      "cell_type": "code",
      "metadata": {
        "colab": {
          "base_uri": "https://localhost:8080/",
          "height": 268
        },
        "id": "hY6kx_1Mi-KE",
        "outputId": "c39c381c-50ba-4bde-9a7b-1e50fbb495bf"
      },
      "source": [
        "plt.scatter(shopping_data.loc[:,'annual_income'], shopping_data.loc[:, 'spending_score'], s=50);"
      ],
      "execution_count": 76,
      "outputs": [
        {
          "output_type": "display_data",
          "data": {
            "image/png": "[encoded data removed]",
            "text/plain": [
              "<Figure size 432x288 with 1 Axes>"
            ]
          },
          "metadata": {
            "tags": []
          }
        }
      ]
    },
    {
      "cell_type": "markdown",
      "metadata": {
        "id": "Wx6deWgoRu0O"
      },
      "source": [
        "### Hierarchical Clustering\n",
        "First, we will apply hierarchical clustering and use dendrogram to help find the number of clusters within the data.\n",
        "\n",
        "**TODO: Use dendrogram to plot hierarchical clustering and find the number of clusters that makes sense.**"
      ]
    },
    {
      "cell_type": "code",
      "metadata": {
        "colab": {
          "base_uri": "https://localhost:8080/",
          "height": 447
        },
        "id": "mGfZZM3ij_g_",
        "outputId": "4ba4c804-f8d0-452e-9682-2eb07c7538f2"
      },
      "source": [
        "#dendogram\n",
        "plt.figure(figsize=(10, 7))  \n",
        "plt.title(\"Dendograms\")  \n",
        "dend = shc.dendrogram(shc.linkage(shopping_data, method='ward')) "
      ],
      "execution_count": 77,
      "outputs": [
        {
          "output_type": "display_data",
          "data": {
            "image/png": "[encoded data removed]",
            "text/plain": [
              "<Figure size 720x504 with 1 Axes>"
            ]
          },
          "metadata": {
            "tags": []
          }
        }
      ]
    },
    {
      "cell_type": "markdown",
      "metadata": {
        "id": "kfVXdIvsklW5"
      },
      "source": [
        "From above dendogram, we can say that 5 clusters are required for Shopping_data."
      ]
    },
    {
      "cell_type": "markdown",
      "metadata": {
        "id": "x_8vcGNyRu0T"
      },
      "source": [
        "**TODO: Apply hierarchical clustering based on the number of clusters you pick from the dendrogram, and visualize the results using scatterplot.**"
      ]
    },
    {
      "cell_type": "code",
      "metadata": {
        "id": "ZDz8vl9rRu0T",
        "colab": {
          "base_uri": "https://localhost:8080/",
          "height": 303
        },
        "outputId": "da554121-1094-4727-e3bd-e4ccb0b41bfc"
      },
      "source": [
        "# TODO\n",
        "\n",
        "#no of cluster = 5\n",
        "hc = AgglomerativeClustering(n_clusters=5, affinity='euclidean', linkage='ward')  \n",
        "y_ward = hc.fit_predict(shopping_data)  \n",
        "\n",
        "plt.scatter(shopping_data.loc[:,'annual_income'], shopping_data.loc[:, 'spending_score'], c=y_ward, s=30 )\n",
        "plt.xlabel(\"annual_income\")\n",
        "plt.ylabel(\"spending_score\")"
      ],
      "execution_count": 78,
      "outputs": [
        {
          "output_type": "execute_result",
          "data": {
            "text/plain": [
              "Text(0, 0.5, 'spending_score')"
            ]
          },
          "metadata": {
            "tags": []
          },
          "execution_count": 78
        },
        {
          "output_type": "display_data",
          "data": {
            "image/png": "[encoded data removed]",
            "text/plain": [
              "<Figure size 432x288 with 1 Axes>"
            ]
          },
          "metadata": {
            "tags": []
          }
        }
      ]
    },
    {
      "cell_type": "markdown",
      "metadata": {
        "id": "zc1jqvW7Ru0W"
      },
      "source": [
        "### K-means Clustering\n",
        "Then, we will apply k-means to the same data and visualize the results.\n",
        "\n",
        "**TODO: Vary the number of K from 2 to 10 and plot the Sum of Squared Error (SSE) as K increases and pick up the value of K that makes sense.**"
      ]
    },
    {
      "cell_type": "code",
      "metadata": {
        "id": "7gC5iFpoRu0Y",
        "colab": {
          "base_uri": "https://localhost:8080/",
          "height": 301
        },
        "outputId": "0cedc3b5-824b-4a3a-fba9-dd3c32ba0e67"
      },
      "source": [
        "# TODO\n",
        "from sklearn.cluster import KMeans\n",
        "\n",
        "inertias = []\n",
        "K = range(2, 11)\n",
        "\n",
        "for k in K:\n",
        "\t# Building and fitting the model\n",
        "\tkmeanModel = KMeans(n_clusters=k).fit(shopping_data)\n",
        "\tinertias.append(kmeanModel.inertia_)\n",
        "\t\n",
        "\n",
        "plt.plot(K, inertias,'bx-')\n",
        "plt.xlabel('Values of K')\n",
        "plt.ylabel('Inertia')\n",
        "plt.title('The Elbow Method using Inertia')\n",
        "plt.show()\n"
      ],
      "execution_count": 79,
      "outputs": [
        {
          "output_type": "display_data",
          "data": {
            "image/png": "[encoded data removed]",
            "text/plain": [
              "<Figure size 432x288 with 1 Axes>"
            ]
          },
          "metadata": {
            "tags": []
          }
        }
      ]
    },
    {
      "cell_type": "markdown",
      "metadata": {
        "id": "LfdgUjIwt3cp"
      },
      "source": [
        "From the above elbow curve, no of clusters = 5 make more sense"
      ]
    },
    {
      "cell_type": "markdown",
      "metadata": {
        "id": "52XDinaTRu0b"
      },
      "source": [
        "**TODO: Cluster the data using K-means based on the pre-defined value of K from the previous step and and visualize the results using scatterplot. **"
      ]
    },
    {
      "cell_type": "code",
      "metadata": {
        "id": "SWQ4KJp-Ru0b",
        "colab": {
          "base_uri": "https://localhost:8080/",
          "height": 286
        },
        "outputId": "81f3ffb7-5787-47e0-fcb3-575b82eebaf5"
      },
      "source": [
        "# TODO\n",
        "#K =3 from above result\n",
        "kmeanModel= KMeans(5).fit(shopping_data)\n",
        "y_kmeans = kmeanModel.predict(shopping_data)\n",
        "\n",
        "plt.scatter(shopping_data.loc[:,'annual_income'], shopping_data.loc[:, 'spending_score'], c=y_kmeans, s=30 )\n",
        "\n",
        "centers = kmeanModel.cluster_centers_\n",
        "plt.scatter(centers[:, 0], centers[:, 1], c='black', s=200, alpha=0.5)\n",
        "\n",
        "\n"
      ],
      "execution_count": 81,
      "outputs": [
        {
          "output_type": "execute_result",
          "data": {
            "text/plain": [
              "<matplotlib.collections.PathCollection at 0x7f969c21d390>"
            ]
          },
          "metadata": {
            "tags": []
          },
          "execution_count": 81
        },
        {
          "output_type": "display_data",
          "data": {
            "image/png": "[encoded data removed]",
            "text/plain": [
              "<Figure size 432x288 with 1 Axes>"
            ]
          },
          "metadata": {
            "tags": []
          }
        }
      ]
    },
    {
      "cell_type": "markdown",
      "metadata": {
        "id": "mKBYBdKjSrC2"
      },
      "source": [
        "## Problem 2: Clustering (Manually)"
      ]
    },
    {
      "cell_type": "markdown",
      "metadata": {
        "id": "Enllke2tSrj6"
      },
      "source": [
        "For the following dataset, perform the clustering “by hand”:\n",
        "\n",
        "17 28 50 60 80 89 150 167 171 189 \n",
        "1. \tUse the K-means algorithm with K= 3 to cluster the data\n",
        "2. \tUse hierarchical agglomerative clustering with single linkage to cluster the data\n",
        "3. \tUse hierarchical agglomerative clustering with complete linkage to cluster the data\n",
        "4. \tFor K-means What will the final clusters be after 3 iterations if k=3 and the initial centers are 150, 171 and 189"
      ]
    },
    {
      "cell_type": "markdown",
      "metadata": {
        "id": "TuA0ZcPfRu0e"
      },
      "source": [
        "## Bonus points\n",
        "Use the dataset of accepted papers at the AAAI 2014 conference to find clusters of papers using K-Means. You can use paper title or abstract to build your features using [Bag of Words](https://en.wikipedia.org/wiki/Bag-of-words_model).\n",
        "\n",
        "1. Vary the number of K from 2 to 6 and show if the results vary and assess the clusters obtained.\n",
        "\n",
        "2. Make a case regarding which clusters ‘make sense’ e.g., is there a cluster were papers on reinforcement learning are together vs. another cluster which has papers on deep learning."
      ]
    },
    {
      "cell_type": "code",
      "metadata": {
        "id": "sgqqIL0PRu0f"
      },
      "source": [
        "# Load the Relevant libraries\n",
        "import sklearn as sk\n",
        "\n",
        "# URL for the AAAI (UW Repository)\n",
        "aaai_data = pd.read_csv(\"https://raw.githubusercontent.com/zariable/data/master/AAAI2014AcceptedPapers.csv\")"
      ],
      "execution_count": 25,
      "outputs": []
    },
    {
      "cell_type": "code",
      "metadata": {
        "colab": {
          "base_uri": "https://localhost:8080/",
          "height": 357
        },
        "id": "KPfa6znEaWDb",
        "outputId": "215575c1-a881-4228-d9b6-ef2e3fb660f7"
      },
      "source": [
        "aaai_data.head()\n",
        "\n"
      ],
      "execution_count": 26,
      "outputs": [
        {
          "output_type": "execute_result",
          "data": {
            "text/html": [
              "<div>\n",
              "<style scoped>\n",
              "    .dataframe tbody tr th:only-of-type {\n",
              "        vertical-align: middle;\n",
              "    }\n",
              "\n",
              "    .dataframe tbody tr th {\n",
              "        vertical-align: top;\n",
              "    }\n",
              "\n",
              "    .dataframe thead th {\n",
              "        text-align: right;\n",
              "    }\n",
              "</style>\n",
              "<table border=\"1\" class=\"dataframe\">\n",
              "  <thead>\n",
              "    <tr style=\"text-align: right;\">\n",
              "      <th></th>\n",
              "      <th>title</th>\n",
              "      <th>authors</th>\n",
              "      <th>groups</th>\n",
              "      <th>keywords</th>\n",
              "      <th>topics</th>\n",
              "      <th>abstract</th>\n",
              "    </tr>\n",
              "  </thead>\n",
              "  <tbody>\n",
              "    <tr>\n",
              "      <th>0</th>\n",
              "      <td>Kernelized Bayesian Transfer Learning</td>\n",
              "      <td>Mehmet Gönen and Adam A. Margolin</td>\n",
              "      <td>Novel Machine Learning Algorithms (NMLA)</td>\n",
              "      <td>cross-domain learning\\ndomain adaptation\\nkern...</td>\n",
              "      <td>APP: Biomedical / Bioinformatics\\nNMLA: Bayesi...</td>\n",
              "      <td>Transfer learning considers related but distin...</td>\n",
              "    </tr>\n",
              "    <tr>\n",
              "      <th>1</th>\n",
              "      <td>\"Source Free\" Transfer Learning for Text Class...</td>\n",
              "      <td>Zhongqi Lu, Yin Zhu, Sinno Pan, Evan Xiang, Yu...</td>\n",
              "      <td>AI and the Web (AIW)\\nNovel Machine Learning A...</td>\n",
              "      <td>Transfer Learning\\nAuxiliary Data Retrieval\\nT...</td>\n",
              "      <td>AIW: Knowledge acquisition from the web\\nAIW: ...</td>\n",
              "      <td>Transfer learning uses relevant auxiliary data...</td>\n",
              "    </tr>\n",
              "    <tr>\n",
              "      <th>2</th>\n",
              "      <td>A Generalization of Probabilistic Serial to Ra...</td>\n",
              "      <td>Haris Aziz and Paul Stursberg</td>\n",
              "      <td>Game Theory and Economic Paradigms (GTEP)</td>\n",
              "      <td>social choice theory\\nvoting\\nfair division\\ns...</td>\n",
              "      <td>GTEP: Game Theory\\nGTEP: Social Choice / Voting</td>\n",
              "      <td>The probabilistic serial (PS) rule is one of t...</td>\n",
              "    </tr>\n",
              "    <tr>\n",
              "      <th>3</th>\n",
              "      <td>Lifetime Lexical Variation in Social Media</td>\n",
              "      <td>Liao Lizi, Jing Jiang, Ying Ding, Heyan Huang ...</td>\n",
              "      <td>NLP and Text Mining (NLPTM)</td>\n",
              "      <td>Generative model\\nSocial Networks\\nAge Prediction</td>\n",
              "      <td>AIW: Web personalization and user modeling\\nNL...</td>\n",
              "      <td>As the rapid growth of online social media att...</td>\n",
              "    </tr>\n",
              "    <tr>\n",
              "      <th>4</th>\n",
              "      <td>Hybrid Singular Value Thresholding for Tensor ...</td>\n",
              "      <td>Xiaoqin Zhang, Zhengyuan Zhou, Di Wang and Yi Ma</td>\n",
              "      <td>Knowledge Representation and Reasoning (KRR)\\n...</td>\n",
              "      <td>tensor completion\\nlow-rank recovery\\nhybrid s...</td>\n",
              "      <td>KRR: Knowledge Representation (General/Other)\\...</td>\n",
              "      <td>In this paper, we study the low-rank tensor co...</td>\n",
              "    </tr>\n",
              "  </tbody>\n",
              "</table>\n",
              "</div>"
            ],
            "text/plain": [
              "                                               title  ...                                           abstract\n",
              "0              Kernelized Bayesian Transfer Learning  ...  Transfer learning considers related but distin...\n",
              "1  \"Source Free\" Transfer Learning for Text Class...  ...  Transfer learning uses relevant auxiliary data...\n",
              "2  A Generalization of Probabilistic Serial to Ra...  ...  The probabilistic serial (PS) rule is one of t...\n",
              "3         Lifetime Lexical Variation in Social Media  ...  As the rapid growth of online social media att...\n",
              "4  Hybrid Singular Value Thresholding for Tensor ...  ...  In this paper, we study the low-rank tensor co...\n",
              "\n",
              "[5 rows x 6 columns]"
            ]
          },
          "metadata": {
            "tags": []
          },
          "execution_count": 26
        }
      ]
    },
    {
      "cell_type": "code",
      "metadata": {
        "id": "HAK3qKZMa9EN"
      },
      "source": [
        "title = aaai_data['title'] #considering column 'Title' for bag of words"
      ],
      "execution_count": 82,
      "outputs": []
    },
    {
      "cell_type": "code",
      "metadata": {
        "colab": {
          "base_uri": "https://localhost:8080/"
        },
        "id": "eHcdOZv9TRKQ",
        "outputId": "f6d34828-af80-48d7-86b0-ea066d4c56e6"
      },
      "source": [
        "from keras.preprocessing.text import Tokenizer\n",
        "\n",
        "def print_bow(title: str) -> None:\n",
        "    tokenizer = Tokenizer()\n",
        "    tokenizer.fit_on_texts(title)\n",
        "    sequences = tokenizer.texts_to_sequences(title)\n",
        "    word_index = tokenizer.word_index \n",
        "    bow = {}\n",
        "    for key in word_index:\n",
        "        bow[key] = sequences[0].count(word_index[key])\n",
        "\n",
        "    print(f\"Bag of word sentence 1:\\n{bow}\")\n",
        "    print(f'We found {len(word_index)} unique tokens.')\n",
        "\n",
        "bg= print_bow(title)\n",
        "\n"
      ],
      "execution_count": 83,
      "outputs": [
        {
          "output_type": "stream",
          "text": [
            "Bag of word sentence 1:\n",
            "{'for': 0, 'of': 0, 'in': 0, 'and': 0, 'with': 0, 'a': 0, 'learning': 1, 'the': 0, 'based': 0, 'using': 0, 'on': 0, 'multi': 0, 'to': 0, 'by': 0, 'model': 0, 'planning': 0, 'via': 0, 'search': 0, 'social': 0, 'online': 0, 'from': 0, 'classification': 0, 'analysis': 0, 'information': 0, 'sparse': 0, 'data': 0, 'supervised': 0, 'networks': 0, 'multiple': 0, 'models': 0, 'probabilistic': 0, 'image': 0, 'view': 0, 'linear': 0, 'large': 0, 'robust': 0, 'games': 0, 'language': 0, 'label': 0, 'optimization': 0, 'constraints': 0, 'selection': 0, 'modeling': 0, 'non': 0, 'natural': 0, 'stochastic': 0, 'agent': 0, 'domain': 0, 'transfer': 1, 'an': 0, 'efficient': 0, 'feature': 0, 'solving': 0, 'optimal': 0, 'time': 0, 'prediction': 0, 'adaptive': 0, 'knowledge': 0, 'embedding': 0, 'instance': 0, 'rank': 0, 'temporal': 0, 'clustering': 0, 'reasoning': 0, 'robot': 0, 'game': 0, 'constraint': 0, 'task': 0, 'structure': 0, 'design': 0, 'bayesian': 1, 'representation': 0, 'semantic': 0, 'graph': 0, 'complexity': 0, 'manifold': 0, 'human': 0, 'scale': 0, 'systems': 0, 'user': 0, 'aware': 0, 'recognition': 0, 'neural': 0, 'matrix': 0, 'algorithms': 0, 'framework': 0, 'problems': 0, 'heterogeneous': 0, 'low': 0, 'simple': 0, 'algorithm': 0, 'dynamic': 0, 'through': 0, 'tensor': 0, 'completion': 0, 'method': 0, 'support': 0, 'local': 0, 'programs': 0, 'cross': 0, 'scalable': 0, 'structured': 0, 'dynamics': 0, 'process': 0, 'action': 0, 'domains': 0, 'quality': 0, 'strategy': 0, 'generalized': 0, 'imperfect': 0, 'network': 0, 'recommendation': 0, 'fast': 0, 'description': 0, 'under': 0, 'checking': 0, 'real': 0, 'approach': 0, 'deep': 0, 'group': 0, 'problem': 0, 'as': 0, 'uncertainty': 0, 'first': 0, 'counting': 0, 'hybrid': 0, 'preserving': 0, 'web': 0, 'uncertain': 0, 'latent': 0, 'topic': 0, 'high': 0, 'system': 0, 'predicting': 0, 'computational': 0, 'exploration': 0, 'behavior': 0, 'belief': 0, 'theoretic': 0, 'inference': 0, 'parallel': 0, 'ranking': 0, 'alignment': 0, 'active': 0, 'rules': 0, 'sentiment': 0, 'visual': 0, 'sampling': 0, 'exploiting': 0, 'accurate': 0, 'monte': 0, 'carlo': 0, 'single': 0, 'consistency': 0, 'tree': 0, 'sparsity': 0, 'elicitation': 0, 'factorization': 0, 'machine': 0, 'mining': 0, 'over': 0, 'programming': 0, 'objects': 0, 'general': 0, 'convex': 0, 'generation': 0, 'constrained': 0, 'query': 0, 'computing': 0, 'adaptation': 0, 'ontology': 0, 'strategies': 0, 'propagation': 0, 'joint': 0, 'case': 0, 'text': 0, 'randomized': 0, 'choice': 0, 'locality': 0, 'hashing': 0, 'partial': 0, 'maxsat': 0, 'maximization': 0, 'state': 0, 'exchange': 0, 'its': 0, 'intelligent': 0, 'decision': 0, 'complex': 0, 'management': 0, 'symbolic': 0, 'representations': 0, 'towards': 0, 'interactions': 0, 'partitioning': 0, 'subspace': 0, 'reinforcement': 0, 'cognitive': 0, 'continuous': 0, 'allocation': 0, 'datalog': 0, 'semi': 0, 'base': 0, 'reduction': 0, 'emotions': 0, 'texts': 0, 'class': 0, 'privacy': 0, 'decomposition': 0, 'approximation': 0, 'point': 0, 'tournament': 0, 'logic': 0, 'preferences': 0, 'control': 0, 'scoring': 0, 'very': 0, 'rcc': 0, 'application': 0, 'geometry': 0, 'estimation': 0, 'preference': 0, 'minimization': 0, 'electric': 0, 'leveraging': 0, 'trust': 0, 'distance': 0, 'content': 0, 'crowdsourcing': 0, 'abduction': 0, 'automatic': 0, 'regression': 0, 'relational': 0, 'graphs': 0, 'mechanism': 0, 'metric': 0, 'mobile': 0, 'regret': 0, 'coding': 0, 'qualitative': 0, 'most': 0, 'recommender': 0, 'signals': 0, 'markov': 0, 'sat': 0, 'approximate': 0, 'satisfiability': 0, 'resolution': 0, 'improving': 0, 'kernel': 0, 'spatio': 0, 'order': 0, 'dictionary': 0, 'users': 0, 'similarity': 0, 'best': 0, 'voting': 0, 'portfolio': 0, 'set': 0, 'equilibrium': 0, 'source': 0, 'free': 0, 'generalization': 0, 'media': 0, 'value': 0, 'discovering': 0, 'number': 0, 'identification': 0, 'co': 0, 'retrieval': 0, 'statistical': 0, 'influence': 0, 'plans': 0, 'identifying': 0, 'communication': 0, 'than': 0, 'sum': 0, 'construction': 0, 'cognition': 0, 'affect': 0, 'visualization': 0, 'level': 0, 'understanding': 0, 'urban': 0, 'during': 0, 'way': 0, 'detection': 0, 'satisficing': 0, 'inverse': 0, 'noise': 0, 'machines': 0, 'public': 0, 'events': 0, 'long': 0, 'term': 0, 'bias': 0, 'target': 0, 'validation': 0, 'correction': 0, 'sequential': 0, 'k': 0, 'applications': 0, 'experiments': 0, 'parameterized': 0, 'nets': 0, 'localization': 0, 'across': 0, 'processes': 0, 'reviews': 0, 'power': 0, 'trading': 0, 'semantics': 0, 'incomplete': 0, 'peaked': 0, 'potential': 0, 'world': 0, '8': 0, 'fused': 0, 'diagnosis': 0, 'disease': 0, 'how': 0, 'your': 0, 'stable': 0, 'vehicles': 0, 'parametric': 0, 'dimensional': 0, 'sub': 0, 'smoothing': 0, 'effective': 0, 'distribution': 0, 'change': 0, 'schedule': 0, 'dependencies': 0, 'patterns': 0, 'risk': 0, 'block': 0, 'diagonal': 0, 'charging': 0, 'techniques': 0, 'generating': 0, 'ontologies': 0, 'oriented': 0, 'capturing': 0, 'q': 0, 'discussions': 0, 'lifting': 0, 'map': 0, 'boosting': 0, 'sequence': 0, 'form': 0, 'diagrams': 0, 'filtering': 0, 'disjunctive': 0, 'discriminant': 0, 'hard': 0, 'exploring': 0, 'distributed': 0, 'item': 0, 'extended': 0, 'compositional': 0, 'laplacian': 0, 'hierarchical': 0, 'situated': 0, 'bidding': 0, 'efficiency': 0, 'combinatorial': 0, 'iterated': 0, 'unlabeled': 0, 'you': 0, 'shaping': 0, 'rewards': 0, 'spectral': 0, 'scheduling': 0, 'execution': 0, 'role': 0, 'policy': 0, 'gaussian': 0, 'theory': 0, 'spatial': 0, 'mapping': 0, 'decentralized': 0, 'parameter': 0, 'robotic': 0, 'coordination': 0, 'it': 0, 'observable': 0, 'deterministic': 0, 'ordering': 0, 'use': 0, 'comparison': 0, 'covariance': 0, 'goods': 0, 'common': 0, 'combining': 0, 'reward': 0, 'performance': 0, 'backdoors': 0, 'environments': 0, 'acquiring': 0, 'commonsense': 0, 'at': 0, 'classes': 0, 'weighted': 0, 'logics': 0, 'compilation': 0, 'maximum': 0, 'guided': 0, 'gap': 0, 'translation': 0, 'when': 0, 'characterization': 0, 'bi': 0, 'objective': 0, 'lingual': 0, 'cost': 0, 'neighborhood': 0, 'unsupervised': 0, 'video': 0, 'detecting': 0, 'comparative': 0, 'independent': 0, 'dependent': 0, 'behaviors': 0, 'discrete': 0, 'feedback': 0, 'distributions': 0, 'tractability': 0, 'new': 0, 'perspective': 0, 'collaborative': 0, 'smart': 0, 'sensitive': 0, 'extraction': 0, 'one': 0, 'function': 0, 'global': 0, 'market': 0, 'discovery': 0, 'bagging': 0, 'gradient': 0, 'proximal': 0, 'average': 0, 'nonconvex': 0, 'composite': 0, 'regularization': 0, 'missing': 0, 'binary': 0, 'locally': 0, 'projection': 0, 'context': 0, 'salience': 0, 'negative': 0, 'security': 0, 'word': 0, 'two': 0, 'novel': 0, 'correlation': 0, 'topological': 0, 'bounded': 0, 'pairwise': 0, 'finding': 0, 'earth': 0, \"mover's\": 0, 'aspect': 0, 'golog': 0, 'answer': 0, 'incentivizing': 0, 'preprocessing': 0, 'response': 0, 'aggregation': 0, 'fisher': 0, 'regularized': 0, 'zero': 0, 'managing': 0, 'partially': 0, 'expansion': 0, 'kernelized': 1, 'serial': 0, 'lifetime': 0, 'lexical': 0, 'variation': 0, 'singular': 0, 'thresholding': 0, 'better': 0, 'aaai': 0, 'keywords': 0, 'crowd': 0, 'sourced': 0, 'voted': 0, 'rda': 0, 'fraudulent': 0, 'telephone': 0, 'occurrence': 0, 'tailoring': 0, 'r2': 0, 'mcmc': 0, 'sampler': 0, 'reconsidering': 0, 'mutual': 0, 'significance': 0, 'novelty': 0, 'decay': 0, 'mdps': 0, 'reusing': 0, 'differences': 0, 'physician': 0, 'styles': 0, 'log': 0, 'transition': 0, 'component': 0, 'organ': 0, 'whole': 0, 'is': 0, 'greater': 0, 'parts': 0, 'variable': 0, 'bird': 0, 'species': 0, 'commonly': 0, 'misidentified': 0, 'citizen': 0, 'scientists': 0, 'weakly': 0, 'parsing': 0, 'importance': 0, 'artificially': 0, 'makers': 0, 'fodd': 0, 'gfodd': 0, 'contract': 0, 'negotiation': 0, 'agenda': 0, 'jointly': 0, 'constructing': 0, 'unscripted': 0, 'gesture': 0, 'input': 0, 'emergency': 0, 'disaster': 0, 'cached': 0, 'iterative': 0, 'weakening': 0, 'spammer': 0, 'popularity': 0, 'reinforced': 0, 'poisson': 0, 'rise': 0, 'fall': 0, 'fairness': 0, 'type': 0, 'queues': 0, 'exact': 0, 'lazy': 0, 'defenders': 0, 'are': 0, 'almost': 0, 'against': 0, 'diligent': 0, 'attackers': 0, 'prego': 0, 'robotics': 0, 'dropout': 0, 'training': 0, 'vector': 0, 'resource': 0, 'protecting': 0, 'proof': 0, 'auction': 0, 'discounting': 0, 'values': 0, 'relish': 0, 'reliable': 0, 'smoothness': 0, 'hypothesis': 0, 'materialisation': 0, 'centralised': 0, 'main': 0, 'memory': 0, 'rdf': 0, 'interests': 0, 'object': 0, 'sensor': 0, 'array': 0, 'elements': 0, 'simultaneous': 0, 'cake': 0, 'cutting': 0, 'recovering': 0, 'causal': 0, 'kernels': 0, 'nested': 0, 'sketch': 0, 'editing': 0, 'merge': 0, 'shrink': 0, 'heuristics': 0, 'generated': 0, 'videos': 0, 'emotion': 0, 'microblog': 0, 'corating': 0, 'filling': 0, 'up': 0, 'obtain': 0, 'utility': 0, 'compositionality': 0, 'recursive': 0, 'hardness': 0, 'methods': 0, 'cp': 0, 'seasons': 0, 'flows': 0, 'small': 0, 'variance': 0, 'asymptotics': 0, 'dirichlet': 0, 'mixtures': 0, 'svms': 0, 'budgeted': 0, 'ridge': 0, 'speedup': 0, 'determinantal': 0, 'topicmf': 0, 'simultaneously': 0, 'ratings': 0, \"ouragent'13\": 0, 'champion': 0, 'pruned': 0, 'simulations': 0, 'fixing': 0, 'balanced': 0, 'knockout': 0, 'querying': 0, 'inconsistent': 0, 'bases': 0, 'preferred': 0, 'repair': 0, 'electorates': 0, 'forecasting': 0, 'diabetes': 0, 'complications': 0, 'translating': 0, 'hyperplanes': 0, 'dichotomy': 0, 'pure': 0, 'encoding': 0, 'lasso': 0, 'alzheimer’s': 0, 'do': 0, 'friends': 0, 'disclose': 0, 'contextually': 0, 'separation': 0, 'energy': 0, 'disaggregation': 0, 'causality': 0, 'biased': 0, 'grounding': 0, 'acoustic': 0, 'echoes': 0, 'interview': 0, 'matchings': 0, 'placement': 0, 'loading': 0, 'stations': 0, 'no': 0, 'detours': 0, 'necessary': 0, 'extracting': 0, 'keyphrases': 0, 'research': 0, 'papers': 0, 'citation': 0, 'infectivity': 0, 'hawkes': 0, 'selective': 0, 'quantization': 0, 'integration': 0, 'aerosol': 0, 'predictions': 0, 'decomposed': 0, 'minimising': 0, 'undesired': 0, 'costs': 0, 'musically': 0, 'meaningful': 0, 'homogeneous': 0, 'style': 0, 'spatiotemporal': 0, 'infection': 0, 'surveillance': 0, 'predictive': 0, 'can': 0, 'development': 0, \"developer's\": 0, 'presence': 0, 'exponential': 0, 'deepening': 0, 'centered': 0, 'classwise': 0, 'face': 0, 'congestion': 0, 'v2g': 0, 'enabled': 0, 'ev': 0, 'household': 0, 'occupant': 0, 'scenario': 0, 'serious': 0, 'tractable': 0, 'abox': 0, 'nonparametric': 0, 'difficulty': 0, 'expressions': 0, 'student': 0, 'lp': 0, 'relaxations': 0, 'permutation': 0, 'sbds': 0, 'symmetry': 0, 'breaking': 0, 'evolutionary': 0, 'possibilistic': 0, 'labeling': 0, 'complicated': 0, 'ltl': 0, 'finite': 0, 'traces': 0, 'insensitivity': 0, 'infiniteness': 0, 'catalog': 0, 'example': 0, 'least': 0, 'generalizations': 0, 'give': 0, 'diverse': 0, 'team': 0, 'spaces': 0, 'polynomial': 0, 'connected': 0, 'row': 0, 'suit': 0, 'mechanic': 0, 'graphical': 0, 'cascading': 0, 'indian': 0, 'buffet': 0, 'bimodal': 0, 'percepts': 0, 'dramatis': 0, 'suspense': 0, 'lass': 0, 'assignment': 0, 'goal': 0, 'tasks': 0, 'interactive': 0, 'instruction': 0, 'chance': 0, 'false': 0, 'name': 0, 'economic': 0, 'auctions': 0, 'competition': 0, 'relationship': 0, 'color': 0, 'refinement': 0, 'capabilities': 0, 'improve': 0, 'software': 0, 'testing': 0, 'wormhole': 0, 'hamiltonian': 0, 'pay': 0, 'go': 0, 'owl': 0, 'answering': 0, 'triple': 0, 'store': 0, 'imitation': 0, 'demonstrations': 0, 'thompson': 0, 'winners': 0, 'winner': 0, 'determination': 0, 'policies': 0, 'candidate': 0, 'engagement': 0, 'students': 0, 'courses': 0, 'segmentation': 0, 'parametrized': 0, 'families': 0, 'phase': 0, 'transitions': 0, 'dataless': 0, 'confident': 0, 'raven’s': 0, 'progressive': 0, 'matrices': 0, 'tests': 0, 'dimensionality': 0, 'generalizing': 0, 'advice': 0, 'bandits': 0, 'skill': 0, 'improvement': 0, 'scan': 0, 'population': 0, 'hierarchies': 0, 'parities': 0, 'anonymity': 0, 'augmented': 0, 'quantitative': 0, 'behaviours': 0, 'decoupling': 0, 'who': 0, 'also': 0, 'likes': 0, 'persuasive': 0, 'explanations': 0, 'contingent': 0, 'fully': 0, 'nlp': 0, 'logistic': 0, 'effects': 0, 'adjustment': 0, 'shopping': 0, 'agents': 0, 'self': 0, 'concordance': 0, 'indivisible': 0, 'indifferences': 0, 'beyond': 0, \"sönmez's\": 0, 'result': 0, 'senticnet': 0, '3': 0, 'sense': 0, 'driven': 0, 'correlated': 0, 'measuring': 0, 'confidence': 0, 'avoiding': 0, 'plagiarism': 0, 'region': 0, 'estimating': 0, 'air': 0, 'pollution': 0, 'projects': 0, 'will': 0, 'take': 0, 'rewritability': 0, 'increasing': 0, 'vcg': 0, 'revenue': 0, 'decreasing': 0, 'items': 0, 'grandpa': 0, 'hates': 0, 'robots': 0, 'interaction': 0, 'inhabited': 0, 'uncreative': 0, 'examinee': 0, 'step': 0, 'toward': 0, 'wide': 0, 'coverage': 0, 'math': 0, 'computation': 0, 'optimistic': 0, 'submodularity': 0, 'click': 0, 'sponsored': 0, 'recurrent': 0, 'into': 0, 'csp': 0, 'cooperation': 0, 'explanation': 0, 'ordered': 0, 'valued': 0, 'prices': 0, 'matter': 0, 'shift': 0, 'bribery': 0, 'decomposing': 0, 'activities': 0, 'daily': 0, 'living': 0, 'discover': 0, 'routine': 0, 'clusters': 0, 'hair': 0, 'wild': 0, 'schemas': 0, 'functional': 0, 'rdfs': 0, 'core': 0, 'mind': 0, 'minimizing': 0, 'space': 0, 'rounded': 0, 'incentives': 0, 'truthful': 0, 'equilibria': 0, 'epidemic': 0, 'containment': 0, 'beat': 0, 'cheater': 0, 'kick': 0, 'gambler': 0, 'out': 0, 'casino': 0, 'crossing': 0, 'pareto': 0, 'hc': 0, 'empirical': 0, 'study': 0, 'ai': 0, 'buyer': 0, 'groups': 0, 'electricity': 0, 'tariffs': 0, 'singleton': 0, 'consistencies': 0, 'transfers': 0, 'pickup': 0, 'delivery': 0, 'instructions': 0, 'segments': 0, 'dense': 0, 'news': 0, 'smarter': 0, 'think': 0, 'reasoner': 0, '5': 0, 'calculi': 0, 'constants': 0, 'residents': 0, 'retirement': 0, 'home': 0, 'environment': 0, 'diagram': 0, 'cloud': 0, 'speech': 0, 'phonetic': 0, 'post': 0, 'processing': 0, 'technique': 0, 'concepts': 0, 'bags': 0, 'exchangeability': 0, 'referring': 0, 'expression': 0, 'dialogue': 0, 'autonomous': 0, 'manipulation': 0, 'vehicle': 0, 'storage': 0, 'achieving': 0, 'goals': 0, 'altering': 0, \"others'\": 0, 'mental': 0, 'states': 0, 'submodular': 0, 'trees': 0, 'classifiers': 0, 'multiagent': 0, 'metareasoning': 0, 'organizational': 0, 'faces': 0, 'wikipedia': 0, 'silence': 0, 'implicit': 0, 'formulation': 0, 'spatially': 0, 'predict': 0, 'short': 0, 'changes': 0, 'gp': 0, 'localize': 0, 'persistent': 0, 'observation': 0, 'nearly': 0, 'profiles': 0, 'narrative': 0, 'extract': 0, 'pattern': 0, 'identify': 0, 'field': 0, 'oceanography': 0, 'codes': 0, 'walking': 0, 'anytime': 0, 'elimination': 0, 'lifted': 0, 'postoperative': 0, 'atrial': 0, 'fibrillation': 0, 'ecg': 0, 'components': 0, 'betting': 0, 'wisdom': 0, 'crowds': 0, 'where': 0, 'why': 0, 'check': 0, 'designing': 0, 'absorbing': 0, 'chains': 0, 'epistemic': 0, 'scheduler': 0, 'actions': 0, 'durations': 0, 'materials': 0, 'synthetic': 0, 'datasets': 0, 'synthesis': 0, 'tutoring': 0, 'subjective': 0, 'experience': 0, 'frames': 0, 'resolving': 0, 'pronouns': 0, 'english': 0, 'resources': 0, 'optimality': 0, 'grammar': 0, 'recognizing': 0, 'hand': 0, 'gestures': 0, 'heterogenous': 0, 'geographical': 0, 'event': 0, 'fee': 0, 'advisors': 0, 'geneth': 0, 'ethical': 0, 'dilemma': 0, 'analyzer': 0, 'traveling': 0, 'packing': 0, 'three': 0, 'vertex': 0, 'paths': 0, 'descent': 0, 'multilabel': 0, 'correlations': 0, 'labels': 0, 'double': 0, 'configuration': 0, 'direct': 0, 'synergies': 0, 'cooperative': 0, 'signature': 0, 'sample': 0, 'delivering': 0, 'guaranteed': 0, 'display': 0, 'ads': 0, 'reach': 0, 'frequency': 0, 'requirements': 0, 'recovery': 0, 'tweets': 0, 'labeled': 0, 'collaboratively': 0, 'selected': 0, 'pairs': 0, 'transitive': 0, 'closure': 0, 'globally': 0, 'consistent': 0, 'incompatibility': 0, 'strategyproofness': 0, 'pursuit': 0, 'intrinsic': 0, 'preservation': 0, 'stackelberg': 0, 'adding': 0, 'greedy': 0, 'pre': 0, 'trained': 0, 'side': 0, 'modal': 0, 'uniquely': 0, 'rule': 0, 'iteratively': 0, 'reweighted': 0, 'splitting': 0, 'extending': 0, 'solutions': 0, 'echo': 0, 'conditional': 0, 'restricted': 0, 'boltzmann': 0, 'summarization': 0, 'tags': 0, 'mss': 0, 'comss': 0, 'limit': 0, 'prioritized': 0, 'circumscription': 0, 'considering': 0, 'proximity': 0, 'ambiguity': 0, 'density': 0, 'restarted': 0, 'multimodal': 0, 'conformity': 0, 'access': 0, 'category': 0, 'matching': 0, 'entity': 0, 'aria': 0, 'asymmetry': 0, 'resistant': 0, 'diagnosing': 0, 'analogue': 0, 'reconfiguration': 0, 'simpler': 0, 'suboptimal': 0, 'pac': 0, 'elementary': 0, 'loops': 0, 'revisited': 0, 'open': 0, 'list': 0, 'proportional': 0, 'parties': 0, 'morphological': 0, 'syntactic': 0, 'linearization': 0, 'directional': 0, 'equivalence': 0, 'structures': 0, 'averaging': 0, 'challenges': 0, 'physical': 0, 'implementations': 0, 'rbms': 0, 'sle': 0, 'signed': 0, 'dimension': 0, 'envy': 0, 'division': 0, 'sellable': 0, 'recall': 0, 'abstraction': 0, 'intent': 0, 'implementing': 0, 'taxonomy': 0, 'derivation': 0, 'wikis': 0, 'relevance': 0, 'conformant': 0, 'existence': 0, 'nash': 0, 'djao': 0, 'dcop': 0, 'that': 0, 'combines': 0, 'features': 0, 'adopt': 0, 'gdl': 0, 'oversubscription': 0, 'compilability': 0, 'competitive': 0, 'contagion': 0, 'dcops': 0, 'modelica': 0, 'evaluating': 0, 'trauma': 0, 'patients': 0, 'addressing': 0, 'covariates': 0, 'tightening': 0, 'bounds': 0, 'pathway': 0, 'specification': 0, 'queries': 0, 'petri': 0, 'net': 0, 'inferential': 0, 'frame': 0, 'testable': 0, 'implications': 0, 'structural': 0, 'equation': 0, 'spanning': 0, 'relative': 0, 'dual': 0, 'coordinate': 0, 'ascent': 0, 'internally': 0, 'kidney': 0, 'intra': 0, 'inter': 0, 'median': 0, 'propositional': 0, 'propagating': 0, 'regular': 0, 'soml': 0, 'strategyproof': 0, 'private': 0, 'endowments': 0, 'geo': 0, 'location': 0, 'advertising': 0, 'propagator': 0, 'sequences': 0, 'preserved': 0, 'constructive': 0, 'argumentation': 0, 'pomdp': 0, 'factored': 0, 'multiarmed': 0, 'bandit': 0, 'incentive': 0, 'demand': 0, 'grids': 0, 'representative': 0, 'voter': 0, 'saturated': 0, 'path': 0, 'mdp': 0, 'bounding': 0, 'size': 0, 'extensive': 0, 'sets': 0, 'external': 0, 'evaluations': 0, 'transformation': 0, 'shape': 0, 'uncorrelated': 0, 'discrimination': 0, 'implies': 0, 'higher': 0, 'admm': 0, 'repairing': 0, 'el': 0, 'results': 0, 'mixing': 0, 'boundaries': 0, 'decidable': 0, 'verification': 0, 'terminating': 0, 'timed': 0, 'automata': 0, 'synthesize': 0, 'maintenance': 0, 'welfare': 0, 'huffman': 0, 'storing': 0, 'uniformly': 0, 'messages': 0, 'cliques': 0, 'studying': 0, 'acquisition': 0, 'logical': 0, 'constructions': 0, 'line': 0, 'doubly': 0, 'ell': 0, 'p': 0, 'infty': 0, 'operator': 0, 'axiomatic': 0, 'runoff': 0, 'monotone': 0, 'multidimensional': 0, 'splines': 0, 'corecluster': 0, 'degeneracy': 0, 'genetic': 0, 'solver': 0, 'jigsaw': 0, 'puzzles': 0, 'types': 0, 'discretized': 0, 'intersection': 0, 'joule': 0, 'artificial': 0, 'bci': 0, 'without': 0, 'explicit': 0, 'calibration': 0, 'diagnoses': 0, 'stream': 0, 'flexible': 0, 'translations': 0, 'helpful': 0, 'adversarial': 0, 'interpretation': 0, 'rationality': 0, 'recognize': 0, 'shot': 0, 'dialogues': 0, 'coactive': 0, 'analogical': 0, 'unknown': 0, 'concept': 0, 'embeddings': 0, 'quantum': 0, 'entropy': 0, 'restarting': 0, 'solvers': 0, 'efficiently': 0, 'simulate': 0, 'worst': 0, 'solution': 0, 'not': 0, 're': 0, 'expanding': 0, 'nodes': 0, 'difference': 0, 'relaxation': 0, 'optional': 0, 'clauses': 0, 'functions': 0, 'measure': 0, 'strength': 0, 'motion': 0, 'known': 0, 'scripts': 0, 'hidden': 0, 'hypergraph': 0, 'compact': 0, 'diversified': 0, 'contraction': 0, 'revision': 0, 'dl': 0, 'lite': 0, 'tboxes': 0, 'pronoun': 0}\n",
            "We found 1336 unique tokens.\n"
          ],
          "name": "stdout"
        }
      ]
    },
    {
      "cell_type": "code",
      "metadata": {
        "id": "NzEleC8ZbWyu"
      },
      "source": [
        "from sklearn.feature_extraction.text import TfidfVectorizer\n",
        "from sklearn.metrics import adjusted_rand_score"
      ],
      "execution_count": 84,
      "outputs": []
    },
    {
      "cell_type": "code",
      "metadata": {
        "colab": {
          "base_uri": "https://localhost:8080/"
        },
        "id": "7ovMhR5IhsR2",
        "outputId": "bed9074d-0262-4eee-f791-9d8e45feccc3"
      },
      "source": [
        "title[title.duplicated(keep=False)] #to verify duplicates"
      ],
      "execution_count": 59,
      "outputs": [
        {
          "output_type": "execute_result",
          "data": {
            "text/plain": [
              "Series([], Name: title, dtype: object)"
            ]
          },
          "metadata": {
            "tags": []
          },
          "execution_count": 59
        }
      ]
    },
    {
      "cell_type": "code",
      "metadata": {
        "id": "16QQS1FZh3nY"
      },
      "source": [
        "from sklearn.feature_extraction import text\n",
        "punc = ['.', ',', '\"', \"'\", '?', '!', ':', ';', '(', ')', '[', ']', '{', '}',\"%\"]\n",
        "stop_words = text.ENGLISH_STOP_WORDS.union(punc)\n",
        "desc = title.values. #title column\n",
        "vectorizer = TfidfVectorizer(stop_words = stop_words)\n",
        "X = vectorizer.fit_transform(desc)"
      ],
      "execution_count": 62,
      "outputs": []
    },
    {
      "cell_type": "code",
      "metadata": {
        "colab": {
          "base_uri": "https://localhost:8080/"
        },
        "id": "FFZ0utWHiN30",
        "outputId": "a5b6437f-9839-40a9-c007-8170cfb27520"
      },
      "source": [
        "word_features = vectorizer.get_feature_names()\n",
        "print(len(word_features))"
      ],
      "execution_count": 85,
      "outputs": [
        {
          "output_type": "stream",
          "text": [
            "1265\n"
          ],
          "name": "stdout"
        }
      ]
    },
    {
      "cell_type": "code",
      "metadata": {
        "id": "cZE8ABv3ioRV"
      },
      "source": [
        "from nltk.tokenize import RegexpTokenizer\n",
        "from nltk.stem.snowball import SnowballStemmer\n",
        "\n",
        "stemmer = SnowballStemmer('english')\n",
        "tokenizer = RegexpTokenizer(r'[a-zA-Z\\']+')\n",
        "\n",
        "def tokenize(text):\n",
        "    return [stemmer.stem(word) for word in tokenizer.tokenize(text.lower())]"
      ],
      "execution_count": 86,
      "outputs": []
    },
    {
      "cell_type": "code",
      "metadata": {
        "colab": {
          "base_uri": "https://localhost:8080/"
        },
        "id": "m30LlXUIi1b2",
        "outputId": "1cf4b435-ed93-448d-e325-60c4bbffe841"
      },
      "source": [
        "vectorizer2 = TfidfVectorizer(stop_words = stop_words, tokenizer = tokenize)\n",
        "X2 = vectorizer2.fit_transform(desc)\n",
        "word_features2 = vectorizer2.get_feature_names()\n",
        "print(len(word_features2))\n",
        "print(word_features2[:50])"
      ],
      "execution_count": 87,
      "outputs": [
        {
          "output_type": "stream",
          "text": [
            "1009\n",
            "['aaai', 'abduct', 'abox', 'absorb', 'abstract', 'access', 'accur', 'achiev', 'acoust', 'acquir', 'acquisit', 'action', 'activ', 'ad', 'adapt', 'address', 'adjust', 'admm', 'adopt', 'adversari', 'advertis', 'advic', 'advisor', 'aerosol', 'affect', 'agenda', 'agent', 'aggreg', 'ai', 'air', 'algorithm', 'align', 'alloc', 'alter', 'alzheim', 'ambigu', 'analog', 'analogu', 'analysi', 'analyz', 'anonym', 'answer', 'anytim', 'applic', 'approach', 'approxim', 'argument', 'aria', 'array', 'artifici']\n"
          ],
          "name": "stdout"
        },
        {
          "output_type": "stream",
          "text": [
            "/usr/local/lib/python3.7/dist-packages/sklearn/feature_extraction/text.py:385: UserWarning: Your stop_words may be inconsistent with your preprocessing. Tokenizing the stop words generated tokens ['abov', 'afterward', 'alon', 'alreadi', 'alway', 'ani', 'anoth', 'anyon', 'anyth', 'anywher', 'becam', 'becaus', 'becom', 'befor', 'besid', 'cri', 'describ', 'dure', 'els', 'elsewher', 'empti', 'everi', 'everyon', 'everyth', 'everywher', 'fifti', 'forti', 'henc', 'hereaft', 'herebi', 'howev', 'hundr', 'inde', 'mani', 'meanwhil', 'moreov', 'nobodi', 'noon', 'noth', 'nowher', 'onc', 'onli', 'otherwis', 'ourselv', 'perhap', 'pleas', 'sever', 'sinc', 'sincer', 'sixti', 'someon', 'someth', 'sometim', 'somewher', 'themselv', 'thenc', 'thereaft', 'therebi', 'therefor', 'togeth', 'twelv', 'twenti', 'veri', 'whatev', 'whenc', 'whenev', 'wherea', 'whereaft', 'wherebi', 'wherev', 'whi', 'yourselv'] not in stop_words.\n",
            "  'stop_words.' % sorted(inconsistent))\n"
          ],
          "name": "stderr"
        }
      ]
    },
    {
      "cell_type": "code",
      "metadata": {
        "colab": {
          "base_uri": "https://localhost:8080/"
        },
        "id": "qkFSmgdYi9NV",
        "outputId": "adb07b64-b92d-4e9a-fe71-60b311bda548"
      },
      "source": [
        "vectorizer3 = TfidfVectorizer(stop_words = stop_words, tokenizer = tokenize, max_features = 1000)\n",
        "X3 = vectorizer3.fit_transform(desc)\n",
        "words = vectorizer3.get_feature_names()"
      ],
      "execution_count": 88,
      "outputs": [
        {
          "output_type": "stream",
          "text": [
            "/usr/local/lib/python3.7/dist-packages/sklearn/feature_extraction/text.py:385: UserWarning: Your stop_words may be inconsistent with your preprocessing. Tokenizing the stop words generated tokens ['abov', 'afterward', 'alon', 'alreadi', 'alway', 'ani', 'anoth', 'anyon', 'anyth', 'anywher', 'becam', 'becaus', 'becom', 'befor', 'besid', 'cri', 'describ', 'dure', 'els', 'elsewher', 'empti', 'everi', 'everyon', 'everyth', 'everywher', 'fifti', 'forti', 'henc', 'hereaft', 'herebi', 'howev', 'hundr', 'inde', 'mani', 'meanwhil', 'moreov', 'nobodi', 'noon', 'noth', 'nowher', 'onc', 'onli', 'otherwis', 'ourselv', 'perhap', 'pleas', 'sever', 'sinc', 'sincer', 'sixti', 'someon', 'someth', 'sometim', 'somewher', 'themselv', 'thenc', 'thereaft', 'therebi', 'therefor', 'togeth', 'twelv', 'twenti', 'veri', 'whatev', 'whenc', 'whenev', 'wherea', 'whereaft', 'wherebi', 'wherev', 'whi', 'yourselv'] not in stop_words.\n",
            "  'stop_words.' % sorted(inconsistent))\n"
          ],
          "name": "stderr"
        }
      ]
    },
    {
      "cell_type": "code",
      "metadata": {
        "colab": {
          "base_uri": "https://localhost:8080/",
          "height": 301
        },
        "id": "VmzZJIE8jHAn",
        "outputId": "6030312f-abb8-4deb-ee82-1e8e1cffe860"
      },
      "source": [
        "wcss = []\n",
        "for i in range(2,6):\n",
        "    kmeans = KMeans(n_clusters=i,init='k-means++',max_iter=300,n_init=10,random_state=0)\n",
        "    kmeans.fit(X3)\n",
        "    wcss.append(kmeans.inertia_)\n",
        "plt.plot(range(2,6),wcss)\n",
        "plt.title('The Elbow Method')\n",
        "plt.xlabel('Number of clusters')\n",
        "plt.ylabel('WCSS')\n",
        "plt.savefig('elbow.png')\n",
        "plt.show()"
      ],
      "execution_count": 89,
      "outputs": [
        {
          "output_type": "display_data",
          "data": {
            "image/png": "[encoded data removed]",
            "text/plain": [
              "<Figure size 432x288 with 1 Axes>"
            ]
          },
          "metadata": {
            "tags": []
          }
        }
      ]
    },
    {
      "cell_type": "code",
      "metadata": {
        "colab": {
          "base_uri": "https://localhost:8080/"
        },
        "id": "fESV58B5jWB_",
        "outputId": "1486cca3-6b7b-4130-b943-949494dc7752"
      },
      "source": [
        "#iteration 1:\n",
        "kmeans = KMeans(n_clusters = 3, n_init = 20, n_jobs = 1) \n",
        "kmeans.fit(X3)\n",
        "# We look at 3 the clusters generated by k-means.\n",
        "common_words = kmeans.cluster_centers_.argsort()[:,-1:-26:-1]\n",
        "for num, centroid in enumerate(common_words):\n",
        "    print(str(num) + ' : ' + ', '.join(words[word] for word in centroid))"
      ],
      "execution_count": 71,
      "outputs": [
        {
          "output_type": "stream",
          "text": [
            "0 : learn, multi, spars, transfer, view, model, instanc, imag, task, composit, onlin, bayesian, represent, robust, featur, local, activ, adapt, dictionari, low, network, dynam, classif, cluster, data\n",
            "1 : base, plan, model, domain, data, adapt, robot, algorithm, inform, uncertain, learn, complex, stochast, constraint, optim, environ, uncertainti, logic, approxim, prefer, compil, agent, experi, heterogen, hybrid\n",
            "2 : use, game, search, social, predict, model, general, linear, optim, network, constraint, time, effici, structur, analysi, larg, select, classif, design, user, reason, program, inform, generat, onlin\n"
          ],
          "name": "stdout"
        }
      ]
    },
    {
      "cell_type": "code",
      "metadata": {
        "colab": {
          "base_uri": "https://localhost:8080/"
        },
        "id": "O1llTp-x4J66",
        "outputId": "318f6ebe-294b-4378-d9f7-22d96a22bff2"
      },
      "source": [
        "print(\"Top terms per cluster for K=3:\")\n",
        "true_k = 3\n",
        "#order_centroids = kmeans.cluster_centers_.argsort()[:, ::-1]\n",
        "terms = vectorizer.get_feature_names()\n",
        "for i in range(true_k):\n",
        "    print (\"Cluster %d:\" % i)\n",
        "    for ind in order_centroids[i, :10]:\n",
        "        print (' %s' % terms[ind])"
      ],
      "execution_count": 91,
      "outputs": [
        {
          "output_type": "stream",
          "text": [
            "Top terms per cluster:\n",
            "Cluster 0:\n",
            " restarted\n",
            " electric\n",
            " parametrized\n",
            " incentivizing\n",
            " cascading\n",
            " power\n",
            " elicitation\n",
            " partial\n",
            " graph\n",
            " joule\n",
            "Cluster 1:\n",
            " auctions\n",
            " logic\n",
            " math\n",
            " incentivizing\n",
            " decentralized\n",
            " actions\n",
            " citizen\n",
            " ontology\n",
            " classes\n",
            " generalization\n",
            "Cluster 2:\n",
            " inter\n",
            " manifold\n",
            " augmented\n",
            " restarted\n",
            " deepening\n",
            " power\n",
            " interaction\n",
            " propagation\n",
            " abstraction\n",
            " restarting\n"
          ],
          "name": "stdout"
        }
      ]
    },
    {
      "cell_type": "code",
      "metadata": {
        "colab": {
          "base_uri": "https://localhost:8080/"
        },
        "id": "SBCK20ew6q6N",
        "outputId": "fedd79a1-992a-4de2-a12f-4a4759b5259b"
      },
      "source": [
        "#Iteration 2:\n",
        "\n",
        "kmeans = KMeans(n_clusters = 4, n_init = 20, n_jobs = 1) \n",
        "kmeans.fit(X3)\n",
        "print(\"Top terms per cluster:\")\n",
        "true_k = 4\n",
        "#order_centroids = kmeans.cluster_centers_.argsort()[:, ::-1]\n",
        "terms = vectorizer.get_feature_names()\n",
        "for i in range(true_k):\n",
        "    print (\"Cluster %d:\" % i)\n",
        "    for ind in order_centroids[i, :10]:\n",
        "        print (' %s' % terms[ind])"
      ],
      "execution_count": 93,
      "outputs": [
        {
          "output_type": "stream",
          "text": [
            "Top terms per cluster:\n",
            "Cluster 0:\n",
            " restarted\n",
            " electric\n",
            " parametrized\n",
            " incentivizing\n",
            " cascading\n",
            " power\n",
            " elicitation\n",
            " partial\n",
            " graph\n",
            " joule\n",
            "Cluster 1:\n",
            " auctions\n",
            " logic\n",
            " math\n",
            " incentivizing\n",
            " decentralized\n",
            " actions\n",
            " citizen\n",
            " ontology\n",
            " classes\n",
            " generalization\n",
            "Cluster 2:\n",
            " inter\n",
            " manifold\n",
            " augmented\n",
            " restarted\n",
            " deepening\n",
            " power\n",
            " interaction\n",
            " propagation\n",
            " abstraction\n",
            " restarting\n",
            "Cluster 3:\n",
            " geographical\n",
            " prego\n",
            " indivisible\n",
            " regularization\n",
            " incentivizing\n",
            " fixing\n",
            " ridge\n",
            " open\n",
            " classwise\n",
            " expression\n"
          ],
          "name": "stdout"
        }
      ]
    },
    {
      "cell_type": "code",
      "metadata": {
        "colab": {
          "base_uri": "https://localhost:8080/"
        },
        "id": "TH9tbCsZ65b1",
        "outputId": "db2e0edf-e963-4929-f2d0-55be4242066f"
      },
      "source": [
        "#Iteration 3:\n",
        "\n",
        "kmeans = KMeans(n_clusters = 5, n_init = 20, n_jobs = 1) \n",
        "kmeans.fit(X3)\n",
        "print(\"Top terms per cluster for K=5:\")\n",
        "true_k = 5\n",
        "#order_centroids = kmeans.cluster_centers_.argsort()[:, ::-1]\n",
        "terms = vectorizer.get_feature_names()\n",
        "for i in range(true_k):\n",
        "    print (\"Cluster %d:\" % i)\n",
        "    for ind in order_centroids[i, :10]:\n",
        "        print (' %s' % terms[ind])"
      ],
      "execution_count": 94,
      "outputs": [
        {
          "output_type": "stream",
          "text": [
            "Top terms per cluster for K=5:\n",
            "Cluster 0:\n",
            " restarted\n",
            " electric\n",
            " parametrized\n",
            " incentivizing\n",
            " cascading\n",
            " power\n",
            " elicitation\n",
            " partial\n",
            " graph\n",
            " joule\n",
            "Cluster 1:\n",
            " auctions\n",
            " logic\n",
            " math\n",
            " incentivizing\n",
            " decentralized\n",
            " actions\n",
            " citizen\n",
            " ontology\n",
            " classes\n",
            " generalization\n",
            "Cluster 2:\n",
            " inter\n",
            " manifold\n",
            " augmented\n",
            " restarted\n",
            " deepening\n",
            " power\n",
            " interaction\n",
            " propagation\n",
            " abstraction\n",
            " restarting\n",
            "Cluster 3:\n",
            " geographical\n",
            " prego\n",
            " indivisible\n",
            " regularization\n",
            " incentivizing\n",
            " fixing\n",
            " ridge\n",
            " open\n",
            " classwise\n",
            " expression\n",
            "Cluster 4:\n",
            " color\n",
            " centralised\n",
            " affect\n",
            " environment\n",
            " golog\n",
            " recurrent\n",
            " mdps\n",
            " auctions\n",
            " leveraging\n",
            " echoes\n"
          ],
          "name": "stdout"
        }
      ]
    },
    {
      "cell_type": "markdown",
      "metadata": {
        "id": "n-2f3H1b5WsH"
      },
      "source": [
        "Varied the number of K from 2 to 5 and verified the clusters\n",
        "\n",
        "There are many words in each cluster and cluster with K =3 have more related words belong to same cluster."
      ]
    }
  ]
}